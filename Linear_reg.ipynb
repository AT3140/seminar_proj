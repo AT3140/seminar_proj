{
 "cells": [
  {
   "cell_type": "code",
   "execution_count": null,
   "id": "82a89cae-db3d-40af-9426-0498cbc11be8",
   "metadata": {},
   "outputs": [],
   "source": [
    "import copy, math\n",
    "import numpy as np\n",
    "import pandas as pd"
   ]
  },
  {
   "cell_type": "code",
   "execution_count": null,
   "id": "f789c05a-8170-4898-be1e-c9c2ed537cd8",
   "metadata": {},
   "outputs": [],
   "source": [
    "df = pd.read_csv('data.csv')\n",
    "df.columns"
   ]
  },
  {
   "cell_type": "code",
   "execution_count": null,
   "id": "c8aea5c1-67fe-4bcd-a72f-9be5456d8231",
   "metadata": {},
   "outputs": [],
   "source": [
    "test_data = df[df['type']=='Test'].drop(labels='type',axis=1).reset_index(drop=True)\n",
    "train_data = df[df['type']=='Train'].drop(labels='type',axis=1).reset_index(drop=True)"
   ]
  },
  {
   "cell_type": "code",
   "execution_count": null,
   "id": "2be7fdc2-56b0-453d-a744-e6824eeafb00",
   "metadata": {},
   "outputs": [],
   "source": [
    "X_test = test_data.drop(labels='tensile', axis=1).reset_index(drop=True)\n",
    "y_test = test_data['tensile']"
   ]
  },
  {
   "cell_type": "code",
   "execution_count": null,
   "id": "8c2c38ee-491d-48c0-96fa-ea51d05f844e",
   "metadata": {},
   "outputs": [],
   "source": [
    "X_train = train_data.drop(labels='tensile', axis=1).reset_index(drop=True)\n",
    "y_train = train_data['tensile']"
   ]
  },
  {
   "cell_type": "code",
   "execution_count": null,
   "id": "55cf2526-3a75-4f32-8fc8-2884b2b240db",
   "metadata": {},
   "outputs": [],
   "source": [
    "y_train.iloc[0]"
   ]
  },
  {
   "cell_type": "code",
   "execution_count": null,
   "id": "77f18732-a705-4b7a-af15-d8508ccdbadb",
   "metadata": {},
   "outputs": [],
   "source": [
    "def getOptimalParametersUsingNormalEquation(X,y):\n",
    "    t0 = np.dot(np.transpose(X),X)\n",
    "    t0 = np.linalg.inv(t0)\n",
    "    t1 = np.dot(np.transpose(X),y)\n",
    "    return np.dot(t0,t1)"
   ]
  },
  {
   "cell_type": "code",
   "execution_count": null,
   "id": "384f2e9d-3934-49c4-8029-fef4b4e71833",
   "metadata": {},
   "outputs": [],
   "source": [
    "def linearRegressionUsingNormalEquation(X_test):\n",
    "    theta = getOptimalParametersUsingNormalEquation(np.array(X_train), np.array(y_train))\n",
    "    print(len(X_test))\n",
    "    predictions = []\n",
    "    for i in range(len(X_test)):\n",
    "        x_test = np.array(X_test.iloc[i])\n",
    "        predictions.append(np.dot(theta,x_test))\n",
    "    print(predictions)"
   ]
  },
  {
   "cell_type": "code",
   "execution_count": null,
   "id": "b09adfdf-ff67-4616-8ebe-7a641bb829f7",
   "metadata": {},
   "outputs": [],
   "source": [
    "linearRegressionUsingNormalEquation(X_test)"
   ]
  },
  {
   "cell_type": "code",
   "execution_count": null,
   "id": "e4179a24-89c8-4f0b-a279-3fd87d35c7e6",
   "metadata": {},
   "outputs": [],
   "source": [
    "# # For use in Gradient Descent \n",
    "# def calcMeanSquareError(theta, X, y):\n",
    "#     #Denoting Mean Squared Error as J\n",
    "#     #expects numpy arrays\n",
    "#     m = len(X)\n",
    "#     J = 0\n",
    "#     for i in range(m):\n",
    "#         del_J = (np.dot(theta,X[i]) - y[i]) ** 2\n",
    "#         J = J + del_J\n",
    "#     J = J / m\n",
    "#     return J"
   ]
  },
  {
   "cell_type": "code",
   "execution_count": null,
   "id": "8f740a12-2898-4290-a9e0-25ddee2e95e0",
   "metadata": {},
   "outputs": [],
   "source": []
  }
 ],
 "metadata": {
  "kernelspec": {
   "display_name": "vsem",
   "language": "python",
   "name": "vsem"
  },
  "language_info": {
   "codemirror_mode": {
    "name": "ipython",
    "version": 3
   },
   "file_extension": ".py",
   "mimetype": "text/x-python",
   "name": "python",
   "nbconvert_exporter": "python",
   "pygments_lexer": "ipython3",
   "version": "3.11.5"
  }
 },
 "nbformat": 4,
 "nbformat_minor": 5
}
