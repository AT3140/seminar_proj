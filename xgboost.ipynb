{
 "cells": [
  {
   "cell_type": "code",
   "execution_count": 1,
   "id": "9640eda2-bc11-42e3-86ce-142bed3f11f8",
   "metadata": {
    "scrolled": true
   },
   "outputs": [],
   "source": [
    "import xgboost as xgb\n",
    "from sklearn.ensemble import GradientBoostingRegressor, AdaBoostClassifier"
   ]
  },
  {
   "cell_type": "code",
   "execution_count": 2,
   "id": "8cc07644-10bb-4a23-9c94-cc22b5f5bfb6",
   "metadata": {},
   "outputs": [],
   "source": [
    "import pandas as pd\n",
    "from sklearn.metrics import mean_squared_error, r2_score, make_scorer"
   ]
  },
  {
   "cell_type": "code",
   "execution_count": 3,
   "id": "954cd2c0-b18c-4629-9789-f69a8dd52cfe",
   "metadata": {},
   "outputs": [],
   "source": [
    "df = pd.read_csv('data.csv')"
   ]
  },
  {
   "cell_type": "code",
   "execution_count": 4,
   "id": "52c2b2c1-5981-4769-9c9a-e41f6b2a9f73",
   "metadata": {},
   "outputs": [
    {
     "data": {
      "text/html": [
       "<div>\n",
       "<style scoped>\n",
       "    .dataframe tbody tr th:only-of-type {\n",
       "        vertical-align: middle;\n",
       "    }\n",
       "\n",
       "    .dataframe tbody tr th {\n",
       "        vertical-align: top;\n",
       "    }\n",
       "\n",
       "    .dataframe thead th {\n",
       "        text-align: right;\n",
       "    }\n",
       "</style>\n",
       "<table border=\"1\" class=\"dataframe\">\n",
       "  <thead>\n",
       "    <tr style=\"text-align: right;\">\n",
       "      <th></th>\n",
       "      <th>ext_temp</th>\n",
       "      <th>lay_ht</th>\n",
       "      <th>shell_thick</th>\n",
       "      <th>tensile</th>\n",
       "    </tr>\n",
       "  </thead>\n",
       "  <tbody>\n",
       "    <tr>\n",
       "      <th>0</th>\n",
       "      <td>205</td>\n",
       "      <td>0.3</td>\n",
       "      <td>0.8</td>\n",
       "      <td>53.451</td>\n",
       "    </tr>\n",
       "    <tr>\n",
       "      <th>1</th>\n",
       "      <td>205</td>\n",
       "      <td>0.4</td>\n",
       "      <td>0.4</td>\n",
       "      <td>49.309</td>\n",
       "    </tr>\n",
       "    <tr>\n",
       "      <th>2</th>\n",
       "      <td>190</td>\n",
       "      <td>0.2</td>\n",
       "      <td>0.8</td>\n",
       "      <td>36.624</td>\n",
       "    </tr>\n",
       "    <tr>\n",
       "      <th>3</th>\n",
       "      <td>190</td>\n",
       "      <td>0.3</td>\n",
       "      <td>0.8</td>\n",
       "      <td>47.266</td>\n",
       "    </tr>\n",
       "    <tr>\n",
       "      <th>4</th>\n",
       "      <td>190</td>\n",
       "      <td>0.3</td>\n",
       "      <td>1.2</td>\n",
       "      <td>50.110</td>\n",
       "    </tr>\n",
       "  </tbody>\n",
       "</table>\n",
       "</div>"
      ],
      "text/plain": [
       "   ext_temp  lay_ht  shell_thick  tensile\n",
       "0       205     0.3          0.8   53.451\n",
       "1       205     0.4          0.4   49.309\n",
       "2       190     0.2          0.8   36.624\n",
       "3       190     0.3          0.8   47.266\n",
       "4       190     0.3          1.2   50.110"
      ]
     },
     "execution_count": 4,
     "metadata": {},
     "output_type": "execute_result"
    }
   ],
   "source": [
    "train_data = df[df['type']=='Train'].drop(labels=['type'],axis=1)\n",
    "train_data.head()"
   ]
  },
  {
   "cell_type": "code",
   "execution_count": 5,
   "id": "976f07fd-6d73-4394-aedb-b5fd0f139400",
   "metadata": {},
   "outputs": [
    {
     "data": {
      "text/html": [
       "<div>\n",
       "<style scoped>\n",
       "    .dataframe tbody tr th:only-of-type {\n",
       "        vertical-align: middle;\n",
       "    }\n",
       "\n",
       "    .dataframe tbody tr th {\n",
       "        vertical-align: top;\n",
       "    }\n",
       "\n",
       "    .dataframe thead th {\n",
       "        text-align: right;\n",
       "    }\n",
       "</style>\n",
       "<table border=\"1\" class=\"dataframe\">\n",
       "  <thead>\n",
       "    <tr style=\"text-align: right;\">\n",
       "      <th></th>\n",
       "      <th>ext_temp</th>\n",
       "      <th>lay_ht</th>\n",
       "      <th>shell_thick</th>\n",
       "      <th>tensile</th>\n",
       "    </tr>\n",
       "  </thead>\n",
       "  <tbody>\n",
       "    <tr>\n",
       "      <th>0</th>\n",
       "      <td>205</td>\n",
       "      <td>0.2</td>\n",
       "      <td>0.4</td>\n",
       "      <td>43.254</td>\n",
       "    </tr>\n",
       "    <tr>\n",
       "      <th>1</th>\n",
       "      <td>220</td>\n",
       "      <td>0.4</td>\n",
       "      <td>0.8</td>\n",
       "      <td>57.332</td>\n",
       "    </tr>\n",
       "    <tr>\n",
       "      <th>2</th>\n",
       "      <td>190</td>\n",
       "      <td>0.4</td>\n",
       "      <td>1.2</td>\n",
       "      <td>53.981</td>\n",
       "    </tr>\n",
       "    <tr>\n",
       "      <th>3</th>\n",
       "      <td>220</td>\n",
       "      <td>0.3</td>\n",
       "      <td>0.4</td>\n",
       "      <td>52.274</td>\n",
       "    </tr>\n",
       "    <tr>\n",
       "      <th>4</th>\n",
       "      <td>190</td>\n",
       "      <td>0.2</td>\n",
       "      <td>0.4</td>\n",
       "      <td>26.588</td>\n",
       "    </tr>\n",
       "  </tbody>\n",
       "</table>\n",
       "</div>"
      ],
      "text/plain": [
       "   ext_temp  lay_ht  shell_thick  tensile\n",
       "0       205     0.2          0.4   43.254\n",
       "1       220     0.4          0.8   57.332\n",
       "2       190     0.4          1.2   53.981\n",
       "3       220     0.3          0.4   52.274\n",
       "4       190     0.2          0.4   26.588"
      ]
     },
     "execution_count": 5,
     "metadata": {},
     "output_type": "execute_result"
    }
   ],
   "source": [
    "test_data = df[df['type']=='Test'].drop(labels=['type'],axis=1).reset_index(drop=True)\n",
    "test_data.head()"
   ]
  },
  {
   "cell_type": "code",
   "execution_count": 6,
   "id": "a1cdfaee-0df1-4d76-9447-4caed2b16810",
   "metadata": {},
   "outputs": [],
   "source": [
    "X_train = train_data.drop(labels=['tensile'],axis=1)\n",
    "y_train = train_data['tensile']"
   ]
  },
  {
   "cell_type": "code",
   "execution_count": 7,
   "id": "2d5f227f-7175-4a0c-af32-284cbe6e403a",
   "metadata": {},
   "outputs": [],
   "source": [
    "X_test = test_data.drop(labels=['tensile'],axis=1)\n",
    "y_test = test_data['tensile']"
   ]
  },
  {
   "cell_type": "code",
   "execution_count": 8,
   "id": "86d00c1a-9869-4c81-b5e5-ae660e5db56f",
   "metadata": {},
   "outputs": [],
   "source": [
    "xgbr_model = xgb.XGBRegressor(n_estimators=300, booster='gbtree', learning_rate=0.3, max_depth=6)\n",
    "#xgbr_model = GradientBoostingRegressor(n_estimators=1200,learning_rate=1.0)\n",
    "#xgbr_model = AdaBoostClassifier(n_estimators=100,learning_rate=1.0)"
   ]
  },
  {
   "cell_type": "code",
   "execution_count": 9,
   "id": "f642e320-779a-4a58-a1e2-9ccc66dc00f8",
   "metadata": {},
   "outputs": [],
   "source": [
    "xgbr_model.fit(X_train.to_numpy(),y_train.to_numpy())\n",
    "predictions = xgbr_model.predict(X_test.to_numpy())"
   ]
  },
  {
   "cell_type": "code",
   "execution_count": 10,
   "id": "b3356001-4928-4bf5-b3c0-68109e0eef48",
   "metadata": {},
   "outputs": [],
   "source": [
    "def getRSquared(y, predictions):\n",
    "    ssr = 0\n",
    "    for i in range(len(y)):\n",
    "        ssr = ssr + pow(y[i] - predictions[i], 2)\n",
    "    sst = 0\n",
    "    ymean = 0\n",
    "    for y_i in y:\n",
    "        ymean = ymean + y_i\n",
    "    ymean = ymean / len(y)\n",
    "    for i in range(len(y)):\n",
    "        sst = sst + pow(y[i] - ymean, 2)\n",
    "    return 1 - ssr / sst"
   ]
  },
  {
   "cell_type": "code",
   "execution_count": 11,
   "id": "27740bc3-2b18-43c4-9e7b-7f4639e8b830",
   "metadata": {},
   "outputs": [
    {
     "name": "stdout",
     "output_type": "stream",
     "text": [
      "-0.08960394607441091\n",
      "-0.08960394607441047\n",
      "78.69562952125037\n",
      "8.87105571627472\n"
     ]
    }
   ],
   "source": [
    "print(getRSquared(y_test.to_numpy(), predictions))\n",
    "print(r2_score(y_test.to_numpy(), predictions))\n",
    "print(mean_squared_error(y_test.to_numpy(), predictions))\n",
    "print(pow(mean_squared_error(y_test.to_numpy(), predictions), 0.5))"
   ]
  },
  {
   "cell_type": "code",
   "execution_count": 12,
   "id": "024f259f-52bb-41b4-ae9f-3f3385eb07e9",
   "metadata": {},
   "outputs": [
    {
     "name": "stdout",
     "output_type": "stream",
     "text": [
      "[43.254 57.332 53.981 52.274 26.588 47.586 48.307 52.299 51.032]\n",
      "[46.730427 50.87987  32.786007 55.450184 37.156185 52.49497  53.00416\n",
      " 55.6377   45.910034]\n"
     ]
    }
   ],
   "source": [
    "print(y_test.to_numpy())\n",
    "print(predictions)"
   ]
  },
  {
   "cell_type": "code",
   "execution_count": null,
   "id": "a2e55e72-17ed-40d8-851a-6d5b7aacc49c",
   "metadata": {},
   "outputs": [],
   "source": []
  }
 ],
 "metadata": {
  "kernelspec": {
   "display_name": "vsem",
   "language": "python",
   "name": "vsem"
  },
  "language_info": {
   "codemirror_mode": {
    "name": "ipython",
    "version": 3
   },
   "file_extension": ".py",
   "mimetype": "text/x-python",
   "name": "python",
   "nbconvert_exporter": "python",
   "pygments_lexer": "ipython3",
   "version": "3.11.5"
  }
 },
 "nbformat": 4,
 "nbformat_minor": 5
}
