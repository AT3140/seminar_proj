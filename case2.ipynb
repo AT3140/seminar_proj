{
 "cells": [
  {
   "cell_type": "code",
   "execution_count": 1,
   "id": "9640eda2-bc11-42e3-86ce-142bed3f11f8",
   "metadata": {
    "scrolled": true
   },
   "outputs": [],
   "source": [
    "import xgboost as xgb\n",
    "from sklearn.ensemble import GradientBoostingRegressor, AdaBoostClassifier"
   ]
  },
  {
   "cell_type": "code",
   "execution_count": 2,
   "id": "8cc07644-10bb-4a23-9c94-cc22b5f5bfb6",
   "metadata": {},
   "outputs": [],
   "source": [
    "import pandas as pd\n",
    "from sklearn.metrics import mean_squared_error, r2_score, make_scorer\n",
    "from sklearn.model_selection import train_test_split"
   ]
  },
  {
   "cell_type": "code",
   "execution_count": 3,
   "id": "954cd2c0-b18c-4629-9789-f69a8dd52cfe",
   "metadata": {},
   "outputs": [],
   "source": [
    "#df = pd.read_excel('data.xlsx', sheet_name=0)\n",
    "df = pd.read_excel('data.xlsx', sheet_name=1) "
   ]
  },
  {
   "cell_type": "code",
   "execution_count": 4,
   "id": "a25e07b4-10f6-4822-b434-b3c9e08e50e6",
   "metadata": {},
   "outputs": [
    {
     "name": "stdout",
     "output_type": "stream",
     "text": [
      "Index(['Dataset Type', 'Layer Thickness (mm)', 'XY', 'XZ', 'YZ', 'Expt', 'LR',\n",
      "       'RFR', 'ABR', 'GBR', 'XGBR'],\n",
      "      dtype='object')\n"
     ]
    }
   ],
   "source": [
    "#print(df.columns)\n",
    "print(df.columns)"
   ]
  },
  {
   "cell_type": "code",
   "execution_count": 5,
   "id": "976f07fd-6d73-4394-aedb-b5fd0f139400",
   "metadata": {},
   "outputs": [],
   "source": [
    "X_train, X_test, y_train, y_test = train_test_split(df.loc[:,['Layer Thickness (mm)', 'XY', 'XZ', 'YZ']], \\\n",
    "df.loc[:, 'Expt'], train_size = 18, shuffle = False)"
   ]
  },
  {
   "cell_type": "code",
   "execution_count": 6,
   "id": "86d00c1a-9869-4c81-b5e5-ae660e5db56f",
   "metadata": {},
   "outputs": [],
   "source": [
    "model = xgb.XGBRegressor(n_estimators=300, booster='gbtree', learning_rate=0.3, max_depth=6)\n",
    "#model = GradientBoostingRegressor(n_estimators=1200,learning_rate=1.0)\n",
    "#model = AdaBoostClassifier(n_estimators=100,learning_rate=1.0)"
   ]
  },
  {
   "cell_type": "code",
   "execution_count": 7,
   "id": "f642e320-779a-4a58-a1e2-9ccc66dc00f8",
   "metadata": {},
   "outputs": [],
   "source": [
    "model.fit(X_train.to_numpy(),y_train.to_numpy())\n",
    "predictions = model.predict(X_test.to_numpy())"
   ]
  },
  {
   "cell_type": "code",
   "execution_count": 8,
   "id": "27740bc3-2b18-43c4-9e7b-7f4639e8b830",
   "metadata": {},
   "outputs": [
    {
     "name": "stdout",
     "output_type": "stream",
     "text": [
      "-1.014421554343523\n",
      "1.0140050977723378\n",
      "1.0069782012398967\n"
     ]
    }
   ],
   "source": [
    "print(r2_score(y_test.to_numpy(), predictions))\n",
    "print(mean_squared_error(y_test.to_numpy(), predictions))\n",
    "print(pow(mean_squared_error(y_test.to_numpy(), predictions), 0.5))"
   ]
  },
  {
   "cell_type": "code",
   "execution_count": 9,
   "id": "024f259f-52bb-41b4-ae9f-3f3385eb07e9",
   "metadata": {},
   "outputs": [
    {
     "name": "stdout",
     "output_type": "stream",
     "text": [
      "[3.2290854 3.2402148 2.6165032 3.2402148 3.3142395 4.258448  4.0247927\n",
      " 4.1471934 4.0991435]\n",
      "[2.671  3.098  3.7084 3.3897 2.6984 3.9192 3.9188 3.6375 3.9192]\n",
      "[2.59 3.37 3.7  3.71 1.69 3.   3.2  2.6  4.2 ]\n"
     ]
    }
   ],
   "source": [
    "print(predictions)\n",
    "print(df.loc[df['Dataset Type'] == 'Test', 'XGBR'].to_numpy())\n",
    "print(y_test.to_numpy())"
   ]
  },
  {
   "cell_type": "code",
   "execution_count": 10,
   "id": "4f5c875f-a55d-4e80-8ff2-724d90885ff1",
   "metadata": {},
   "outputs": [
    {
     "data": {
      "text/html": [
       "<div>\n",
       "<style scoped>\n",
       "    .dataframe tbody tr th:only-of-type {\n",
       "        vertical-align: middle;\n",
       "    }\n",
       "\n",
       "    .dataframe tbody tr th {\n",
       "        vertical-align: top;\n",
       "    }\n",
       "\n",
       "    .dataframe thead th {\n",
       "        text-align: right;\n",
       "    }\n",
       "</style>\n",
       "<table border=\"1\" class=\"dataframe\">\n",
       "  <thead>\n",
       "    <tr style=\"text-align: right;\">\n",
       "      <th></th>\n",
       "      <th>Expt</th>\n",
       "      <th>XGBR</th>\n",
       "      <th>Predictions</th>\n",
       "    </tr>\n",
       "  </thead>\n",
       "  <tbody>\n",
       "    <tr>\n",
       "      <th>0</th>\n",
       "      <td>2.59</td>\n",
       "      <td>2.6710</td>\n",
       "      <td>3.229085</td>\n",
       "    </tr>\n",
       "    <tr>\n",
       "      <th>1</th>\n",
       "      <td>3.37</td>\n",
       "      <td>3.0980</td>\n",
       "      <td>3.240215</td>\n",
       "    </tr>\n",
       "    <tr>\n",
       "      <th>2</th>\n",
       "      <td>3.70</td>\n",
       "      <td>3.7084</td>\n",
       "      <td>2.616503</td>\n",
       "    </tr>\n",
       "    <tr>\n",
       "      <th>3</th>\n",
       "      <td>3.71</td>\n",
       "      <td>3.3897</td>\n",
       "      <td>3.240215</td>\n",
       "    </tr>\n",
       "    <tr>\n",
       "      <th>4</th>\n",
       "      <td>1.69</td>\n",
       "      <td>2.6984</td>\n",
       "      <td>3.314240</td>\n",
       "    </tr>\n",
       "    <tr>\n",
       "      <th>5</th>\n",
       "      <td>3.00</td>\n",
       "      <td>3.9192</td>\n",
       "      <td>4.258448</td>\n",
       "    </tr>\n",
       "    <tr>\n",
       "      <th>6</th>\n",
       "      <td>3.20</td>\n",
       "      <td>3.9188</td>\n",
       "      <td>4.024793</td>\n",
       "    </tr>\n",
       "    <tr>\n",
       "      <th>7</th>\n",
       "      <td>2.60</td>\n",
       "      <td>3.6375</td>\n",
       "      <td>4.147193</td>\n",
       "    </tr>\n",
       "    <tr>\n",
       "      <th>8</th>\n",
       "      <td>4.20</td>\n",
       "      <td>3.9192</td>\n",
       "      <td>4.099144</td>\n",
       "    </tr>\n",
       "  </tbody>\n",
       "</table>\n",
       "</div>"
      ],
      "text/plain": [
       "   Expt    XGBR  Predictions\n",
       "0  2.59  2.6710     3.229085\n",
       "1  3.37  3.0980     3.240215\n",
       "2  3.70  3.7084     2.616503\n",
       "3  3.71  3.3897     3.240215\n",
       "4  1.69  2.6984     3.314240\n",
       "5  3.00  3.9192     4.258448\n",
       "6  3.20  3.9188     4.024793\n",
       "7  2.60  3.6375     4.147193\n",
       "8  4.20  3.9192     4.099144"
      ]
     },
     "execution_count": 10,
     "metadata": {},
     "output_type": "execute_result"
    }
   ],
   "source": [
    "result = df.loc[df['Dataset Type'] == 'Test', ['Expt', 'XGBR']].reset_index(drop=True)\n",
    "result['Predictions'] = pd.Series(predictions)\n",
    "result"
   ]
  },
  {
   "cell_type": "code",
   "execution_count": 11,
   "id": "354093fc-25de-4955-b1b2-f71770aaf85c",
   "metadata": {},
   "outputs": [
    {
     "name": "stdout",
     "output_type": "stream",
     "text": [
      "r2 score (author) :  0.17954890418215907\n",
      "r2 score (amt) :  -1.014421554343523\n",
      "0.41299279777777775\n"
     ]
    }
   ],
   "source": [
    "print(\"r2 score (author) : \", r2_score(result['Expt'].to_numpy(), result['XGBR'].to_numpy()))\n",
    "print(\"r2 score (amt) : \", r2_score(result['Expt'].to_numpy(), result['Predictions'].to_numpy()))\n",
    "print(mean_squared_error(result['Expt'].to_numpy(), result['XGBR'].to_numpy()))\n",
    "#print(pow(mean_squared_error(y_test.to_numpy(), predictions), 0.5))"
   ]
  }
 ],
 "metadata": {
  "kernelspec": {
   "display_name": "vsem",
   "language": "python",
   "name": "vsem"
  },
  "language_info": {
   "codemirror_mode": {
    "name": "ipython",
    "version": 3
   },
   "file_extension": ".py",
   "mimetype": "text/x-python",
   "name": "python",
   "nbconvert_exporter": "python",
   "pygments_lexer": "ipython3",
   "version": "3.11.5"
  }
 },
 "nbformat": 4,
 "nbformat_minor": 5
}
