{
 "cells": [
  {
   "cell_type": "code",
   "execution_count": 1,
   "id": "9640eda2-bc11-42e3-86ce-142bed3f11f8",
   "metadata": {
    "scrolled": true
   },
   "outputs": [],
   "source": [
    "import xgboost as xgb\n",
    "from sklearn.ensemble import GradientBoostingRegressor, AdaBoostClassifier"
   ]
  },
  {
   "cell_type": "code",
   "execution_count": 2,
   "id": "8cc07644-10bb-4a23-9c94-cc22b5f5bfb6",
   "metadata": {},
   "outputs": [],
   "source": [
    "import pandas as pd\n",
    "from sklearn.metrics import mean_squared_error, r2_score, make_scorer\n",
    "from sklearn.model_selection import train_test_split"
   ]
  },
  {
   "cell_type": "code",
   "execution_count": 3,
   "id": "954cd2c0-b18c-4629-9789-f69a8dd52cfe",
   "metadata": {},
   "outputs": [],
   "source": [
    "#df = pd.read_excel('data.xlsx', sheet_name=0)\n",
    "df = pd.read_excel('data.xlsx', sheet_name=1) "
   ]
  },
  {
   "cell_type": "code",
   "execution_count": 4,
   "id": "a25e07b4-10f6-4822-b434-b3c9e08e50e6",
   "metadata": {},
   "outputs": [
    {
     "name": "stdout",
     "output_type": "stream",
     "text": [
      "Index(['Dataset Type', 'Layer Thickness (mm)', 'XY', 'XZ', 'YZ', 'Expt', 'LR',\n",
      "       'RFR', 'ABR', 'GBR', 'XGBR'],\n",
      "      dtype='object')\n"
     ]
    }
   ],
   "source": [
    "#print(df.columns)\n",
    "print(df.columns)"
   ]
  },
  {
   "cell_type": "code",
   "execution_count": 5,
   "id": "976f07fd-6d73-4394-aedb-b5fd0f139400",
   "metadata": {},
   "outputs": [],
   "source": [
    "X_train, X_test, y_train, y_test = train_test_split(df.loc[:,['Layer Thickness (mm)', 'XY', 'XZ', 'YZ']], \\\n",
    "df.loc[:, 'Expt'], train_size = 19, shuffle = False)\n"
   ]
  },
  {
   "cell_type": "code",
   "execution_count": 6,
   "id": "86d00c1a-9869-4c81-b5e5-ae660e5db56f",
   "metadata": {},
   "outputs": [],
   "source": [
    "model = xgb.XGBRegressor(n_estimators=300, booster='gbtree', learning_rate=0.3, max_depth=6)\n",
    "#model = GradientBoostingRegressor(n_estimators=1200,learning_rate=1.0)\n",
    "#model = AdaBoostClassifier(n_estimators=100,learning_rate=1.0)"
   ]
  },
  {
   "cell_type": "code",
   "execution_count": 7,
   "id": "f642e320-779a-4a58-a1e2-9ccc66dc00f8",
   "metadata": {},
   "outputs": [],
   "source": [
    "model.fit(X_train.to_numpy(),y_train.to_numpy())\n",
    "predictions = model.predict(X_test.to_numpy())"
   ]
  },
  {
   "cell_type": "code",
   "execution_count": 8,
   "id": "b3356001-4928-4bf5-b3c0-68109e0eef48",
   "metadata": {},
   "outputs": [],
   "source": [
    "def getRSquared(y, predictions):\n",
    "    ssr = 0\n",
    "    for i in range(len(y)):\n",
    "        ssr = ssr + pow(y[i] - predictions[i], 2)\n",
    "    sst = 0\n",
    "    ymean = 0\n",
    "    for y_i in y:\n",
    "        ymean = ymean + y_i\n",
    "    ymean = ymean / len(y)\n",
    "    for i in range(len(y)):\n",
    "        sst = sst + pow(y[i] - ymean, 2)\n",
    "    return 1 - ssr / sst"
   ]
  },
  {
   "cell_type": "code",
   "execution_count": 9,
   "id": "27740bc3-2b18-43c4-9e7b-7f4639e8b830",
   "metadata": {},
   "outputs": [
    {
     "name": "stdout",
     "output_type": "stream",
     "text": [
      "-0.08960394607441091\n",
      "-0.08960394607441047\n",
      "78.69562952125037\n",
      "8.87105571627472\n"
     ]
    }
   ],
   "source": [
    "print(getRSquared(y_test.to_numpy(), predictions))\n",
    "print(r2_score(y_test.to_numpy(), predictions))\n",
    "print(mean_squared_error(y_test.to_numpy(), predictions))\n",
    "print(pow(mean_squared_error(y_test.to_numpy(), predictions), 0.5))"
   ]
  },
  {
   "cell_type": "code",
   "execution_count": 10,
   "id": "024f259f-52bb-41b4-ae9f-3f3385eb07e9",
   "metadata": {},
   "outputs": [
    {
     "name": "stdout",
     "output_type": "stream",
     "text": [
      "[46.730427 50.87987  32.786007 55.450184 37.156185 52.49497  53.00416\n",
      " 55.6377   45.910034]\n",
      "[46.7304 50.6326 32.786  55.4502 37.1562 52.495  53.0042 55.6377 45.91  ]\n",
      "[43.254 57.332 53.981 52.274 26.588 47.586 48.307 52.299 51.032]\n"
     ]
    }
   ],
   "source": [
    "print(predictions)\n",
    "print(df.loc[df['Dataset Type'] == 'Test', 'XGBR'].to_numpy())\n",
    "print(y_test.to_numpy())"
   ]
  },
  {
   "cell_type": "code",
   "execution_count": 11,
   "id": "4f5c875f-a55d-4e80-8ff2-724d90885ff1",
   "metadata": {},
   "outputs": [
    {
     "data": {
      "text/html": [
       "<div>\n",
       "<style scoped>\n",
       "    .dataframe tbody tr th:only-of-type {\n",
       "        vertical-align: middle;\n",
       "    }\n",
       "\n",
       "    .dataframe tbody tr th {\n",
       "        vertical-align: top;\n",
       "    }\n",
       "\n",
       "    .dataframe thead th {\n",
       "        text-align: right;\n",
       "    }\n",
       "</style>\n",
       "<table border=\"1\" class=\"dataframe\">\n",
       "  <thead>\n",
       "    <tr style=\"text-align: right;\">\n",
       "      <th></th>\n",
       "      <th>Expt</th>\n",
       "      <th>XGBR</th>\n",
       "    </tr>\n",
       "  </thead>\n",
       "  <tbody>\n",
       "    <tr>\n",
       "      <th>0</th>\n",
       "      <td>43.254</td>\n",
       "      <td>46.7304</td>\n",
       "    </tr>\n",
       "    <tr>\n",
       "      <th>1</th>\n",
       "      <td>57.332</td>\n",
       "      <td>50.6326</td>\n",
       "    </tr>\n",
       "    <tr>\n",
       "      <th>2</th>\n",
       "      <td>53.981</td>\n",
       "      <td>32.7860</td>\n",
       "    </tr>\n",
       "    <tr>\n",
       "      <th>3</th>\n",
       "      <td>52.274</td>\n",
       "      <td>55.4502</td>\n",
       "    </tr>\n",
       "    <tr>\n",
       "      <th>4</th>\n",
       "      <td>26.588</td>\n",
       "      <td>37.1562</td>\n",
       "    </tr>\n",
       "    <tr>\n",
       "      <th>5</th>\n",
       "      <td>47.586</td>\n",
       "      <td>52.4950</td>\n",
       "    </tr>\n",
       "    <tr>\n",
       "      <th>6</th>\n",
       "      <td>48.307</td>\n",
       "      <td>53.0042</td>\n",
       "    </tr>\n",
       "    <tr>\n",
       "      <th>7</th>\n",
       "      <td>52.299</td>\n",
       "      <td>55.6377</td>\n",
       "    </tr>\n",
       "    <tr>\n",
       "      <th>8</th>\n",
       "      <td>51.032</td>\n",
       "      <td>45.9100</td>\n",
       "    </tr>\n",
       "  </tbody>\n",
       "</table>\n",
       "</div>"
      ],
      "text/plain": [
       "     Expt     XGBR\n",
       "0  43.254  46.7304\n",
       "1  57.332  50.6326\n",
       "2  53.981  32.7860\n",
       "3  52.274  55.4502\n",
       "4  26.588  37.1562\n",
       "5  47.586  52.4950\n",
       "6  48.307  53.0042\n",
       "7  52.299  55.6377\n",
       "8  51.032  45.9100"
      ]
     },
     "execution_count": 11,
     "metadata": {},
     "output_type": "execute_result"
    }
   ],
   "source": [
    "result = df.loc[df['Dataset Type'] == 'Test', ['Expt', 'XGBR']].reset_index(drop=True)\n",
    "result"
   ]
  },
  {
   "cell_type": "code",
   "execution_count": 16,
   "id": "354093fc-25de-4955-b1b2-f71770aaf85c",
   "metadata": {},
   "outputs": [
    {
     "name": "stdout",
     "output_type": "stream",
     "text": [
      "-0.09460927175004796\n",
      "-0.09460927175004796\n",
      "-0.08960394607441047\n",
      "-0.08960394607441047\n",
      "79.05713450333333\n"
     ]
    }
   ],
   "source": [
    "print(getRSquared(result['Expt'].to_numpy(), result['XGBR'].to_numpy()))\n",
    "print(r2_score(result['Expt'].to_numpy(), result['XGBR'].to_numpy()))\n",
    "print(r2_score(result['Expt'].to_numpy(), predictions))\n",
    "print(r2_score(y_test.to_numpy(), predictions))\n",
    "print(mean_squared_error(result['Expt'].to_numpy(), result['XGBR'].to_numpy()))\n",
    "#print(pow(mean_squared_error(y_test.to_numpy(), predictions), 0.5))"
   ]
  },
  {
   "cell_type": "code",
   "execution_count": 13,
   "id": "256f57d1-2900-4844-84be-e6e3325e10d4",
   "metadata": {},
   "outputs": [
    {
     "data": {
      "text/plain": [
       "array([48.07255556, 48.07255556, 48.07255556, 48.07255556, 48.07255556,\n",
       "       48.07255556, 48.07255556, 48.07255556, 48.07255556])"
      ]
     },
     "execution_count": 13,
     "metadata": {},
     "output_type": "execute_result"
    }
   ],
   "source": [
    "import numpy as np\n",
    "y_test_mean = np.full(len(y_test), y_test.mean())\n",
    "y_test_mean"
   ]
  }
 ],
 "metadata": {
  "kernelspec": {
   "display_name": "vsem",
   "language": "python",
   "name": "vsem"
  },
  "language_info": {
   "codemirror_mode": {
    "name": "ipython",
    "version": 3
   },
   "file_extension": ".py",
   "mimetype": "text/x-python",
   "name": "python",
   "nbconvert_exporter": "python",
   "pygments_lexer": "ipython3",
   "version": "3.11.5"
  }
 },
 "nbformat": 4,
 "nbformat_minor": 5
}
