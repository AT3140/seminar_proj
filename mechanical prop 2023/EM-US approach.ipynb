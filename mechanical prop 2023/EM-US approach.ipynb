{
 "cells": [
  {
   "cell_type": "markdown",
   "id": "ca0d64e1-4049-41c3-82fd-22689b48e89d",
   "metadata": {},
   "source": []
  },
  {
   "cell_type": "code",
   "execution_count": 1,
   "id": "8c95c19c-0658-4de2-b10b-5367dcc74db1",
   "metadata": {},
   "outputs": [],
   "source": [
    "import pandas as pd\n",
    "import numpy as np"
   ]
  },
  {
   "cell_type": "code",
   "execution_count": 2,
   "id": "3540e1ec-2250-4543-bb92-ae6cab1f9fe3",
   "metadata": {},
   "outputs": [],
   "source": [
    "# df = pd.read_excel('data-size17.xlsx')\n",
    "# df = pd.read_excel('data-size56.xlsx')\n",
    "df = pd.read_excel('data-size56.xlsx').loc[:14,:]"
   ]
  },
  {
   "cell_type": "code",
   "execution_count": 3,
   "id": "c71b3af6-a537-48ba-977a-0810284769c5",
   "metadata": {},
   "outputs": [],
   "source": [
    "input = ['f ', 'd', 'T']\n",
    "output_param = 'Stress'\n",
    "f = df.loc[:,input[0]].to_numpy()\n",
    "d = df.loc[:,input[1]].to_numpy()\n",
    "T = df.loc[:,input[2]].to_numpy()\n",
    "S = df.loc[:,output_param].to_numpy()"
   ]
  },
  {
   "cell_type": "code",
   "execution_count": 4,
   "id": "a629730b-420e-41f2-ab45-abd1f76d32a8",
   "metadata": {},
   "outputs": [
    {
     "data": {
      "text/plain": [
       "array([ 9.90515137e+02, -3.20561469e+00, -1.25003075e-03, -8.34591723e+00,\n",
       "        4.41048187e-04,  2.22773045e-03,  1.84893226e-02,  1.29821700e-03,\n",
       "        1.39922588e-02, -8.07180097e-04])"
      ]
     },
     "execution_count": 4,
     "metadata": {},
     "output_type": "execute_result"
    }
   ],
   "source": [
    "def getAFromFDT(f, d, T):\n",
    "    # return np.transpose(np.array([np.ones(f.shape[0]), f, d, T, f*f, d*d, T*T, f*d, f*T, d*T], dtype=int))\n",
    "    return np.transpose(np.array([np.ones(f.shape[0]), f, d, T, f*f, d*d, T*T, f*d, f*T, d*T]))\n",
    "A = getAFromFDT(f, d, T)\n",
    "from numpy.linalg import inv\n",
    "C = np.matmul(np.matmul(inv(np.matmul(np.transpose(A), A)), np.transpose(A)), S)\n",
    "C"
   ]
  },
  {
   "cell_type": "code",
   "execution_count": 5,
   "id": "fd9cb90c-451d-472a-a0a8-cd99323631b7",
   "metadata": {},
   "outputs": [
    {
     "name": "stdout",
     "output_type": "stream",
     "text": [
      "Index(['index', 'f ', 'd', 'T', 'Stress', 'Strain'], dtype='object')\n",
      "(3, 10)\n",
      "r2 score (amt) :  0.5674451640875033\n",
      "Stress\n"
     ]
    },
    {
     "data": {
      "text/html": [
       "<div>\n",
       "<style scoped>\n",
       "    .dataframe tbody tr th:only-of-type {\n",
       "        vertical-align: middle;\n",
       "    }\n",
       "\n",
       "    .dataframe tbody tr th {\n",
       "        vertical-align: top;\n",
       "    }\n",
       "\n",
       "    .dataframe thead th {\n",
       "        text-align: right;\n",
       "    }\n",
       "</style>\n",
       "<table border=\"1\" class=\"dataframe\">\n",
       "  <thead>\n",
       "    <tr style=\"text-align: right;\">\n",
       "      <th></th>\n",
       "      <th>index</th>\n",
       "      <th>f</th>\n",
       "      <th>d</th>\n",
       "      <th>T</th>\n",
       "      <th>Stress</th>\n",
       "      <th>Strain</th>\n",
       "      <th>y_pred</th>\n",
       "    </tr>\n",
       "  </thead>\n",
       "  <tbody>\n",
       "    <tr>\n",
       "      <th>0</th>\n",
       "      <td>15</td>\n",
       "      <td>20.0</td>\n",
       "      <td>50.00</td>\n",
       "      <td>230</td>\n",
       "      <td>45.88</td>\n",
       "      <td>0.029590</td>\n",
       "      <td>46.990324</td>\n",
       "    </tr>\n",
       "    <tr>\n",
       "      <th>1</th>\n",
       "      <td>16</td>\n",
       "      <td>50.0</td>\n",
       "      <td>4.94</td>\n",
       "      <td>200</td>\n",
       "      <td>41.76</td>\n",
       "      <td>0.022908</td>\n",
       "      <td>41.220422</td>\n",
       "    </tr>\n",
       "    <tr>\n",
       "      <th>2</th>\n",
       "      <td>17</td>\n",
       "      <td>35.0</td>\n",
       "      <td>50.00</td>\n",
       "      <td>215</td>\n",
       "      <td>41.69</td>\n",
       "      <td>0.023539</td>\n",
       "      <td>43.548903</td>\n",
       "    </tr>\n",
       "  </tbody>\n",
       "</table>\n",
       "</div>"
      ],
      "text/plain": [
       "   index    f       d    T  Stress    Strain     y_pred\n",
       "0     15  20.0  50.00  230   45.88  0.029590  46.990324\n",
       "1     16  50.0   4.94  200   41.76  0.022908  41.220422\n",
       "2     17  35.0  50.00  215   41.69  0.023539  43.548903"
      ]
     },
     "execution_count": 5,
     "metadata": {},
     "output_type": "execute_result"
    }
   ],
   "source": [
    "# dfTest = pd.read_excel('data-size56.xlsx').loc[:14,:].reset_index()\n",
    "dfTest = pd.read_excel('data-size56.xlsx').loc[15:17,:].reset_index()\n",
    "input = ['f ', 'd', 'T']\n",
    "print(dfTest.columns)\n",
    "_A = getAFromFDT(dfTest[input[0]].to_numpy(), dfTest[input[1]].to_numpy(), dfTest[input[2]].to_numpy())\n",
    "print(_A.shape)\n",
    "dfTest['y_pred'] = pd.Series(np.matmul(_A, C))\n",
    "from sklearn.metrics import r2_score\n",
    "print(\"r2 score (amt) : \", r2_score(dfTest[output_param].to_numpy(), dfTest['y_pred'].to_numpy()))\n",
    "print(output_param)\n",
    "dfTest"
   ]
  }
 ],
 "metadata": {
  "kernelspec": {
   "display_name": "Python 3 (ipykernel)",
   "language": "python",
   "name": "python3"
  },
  "language_info": {
   "codemirror_mode": {
    "name": "ipython",
    "version": 3
   },
   "file_extension": ".py",
   "mimetype": "text/x-python",
   "name": "python",
   "nbconvert_exporter": "python",
   "pygments_lexer": "ipython3",
   "version": "3.10.7"
  }
 },
 "nbformat": 4,
 "nbformat_minor": 5
}
