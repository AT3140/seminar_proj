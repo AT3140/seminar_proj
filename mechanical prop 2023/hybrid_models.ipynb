{
 "cells": [
  {
   "cell_type": "code",
   "execution_count": 1,
   "id": "f61f3152-e309-4f58-a632-b9076fe6cd8a",
   "metadata": {},
   "outputs": [],
   "source": [
    "import pandas as pd\n",
    "from sklearn.metrics import mean_squared_error, r2_score, make_scorer\n",
    "from sklearn.model_selection import train_test_split"
   ]
  },
  {
   "cell_type": "code",
   "execution_count": 2,
   "id": "b55be568-cea2-438d-aa47-ba21ec7ced80",
   "metadata": {},
   "outputs": [],
   "source": [
    "df1 = pd.read_excel('data-size56.xlsx', sheet_name=0)"
   ]
  },
  {
   "cell_type": "code",
   "execution_count": 3,
   "id": "f88c7d58-6c05-4305-8eb6-2512c537d83b",
   "metadata": {},
   "outputs": [],
   "source": [
    "X_train, X_test, y_train, y_test = train_test_split(df1.loc[:,['f ', 'd', 'T']], \\\n",
    "df1.loc[:, 'Stress'], train_size = 51, shuffle = False)"
   ]
  },
  {
   "cell_type": "code",
   "execution_count": null,
   "id": "0cab78c2-ec3c-4cb0-8176-4e0cbe7204c6",
   "metadata": {},
   "outputs": [],
   "source": [
    "from sklearn.cross_decomposition import PLSSVD\n",
    "# from sklearn import ensemble\n",
    "model = PLSSVD(n_components=1)\n",
    "# model = KNeighborsRegressor()\n",
    "# model = make_pipeline(StandardScaler(), LinearSVR(dual=\"auto\", random_state=0, tol=1e-5))\n",
    "# model = BernoulliRBM(n_components=2)\n",
    "# model.fit(X_train, y_train)\n",
    "model.fit(X_train.to_numpy(), y_train.to_numpy())\n",
    "y_pred = model.predict(X_test)"
   ]
  }
 ],
 "metadata": {
  "kernelspec": {
   "display_name": "Python 3 (ipykernel)",
   "language": "python",
   "name": "python3"
  },
  "language_info": {
   "codemirror_mode": {
    "name": "ipython",
    "version": 3
   },
   "file_extension": ".py",
   "mimetype": "text/x-python",
   "name": "python",
   "nbconvert_exporter": "python",
   "pygments_lexer": "ipython3",
   "version": "3.10.7"
  }
 },
 "nbformat": 4,
 "nbformat_minor": 5
}
