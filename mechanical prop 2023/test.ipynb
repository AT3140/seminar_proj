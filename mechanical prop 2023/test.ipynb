{
 "cells": [
  {
   "cell_type": "code",
   "execution_count": 1,
   "id": "9640eda2-bc11-42e3-86ce-142bed3f11f8",
   "metadata": {
    "scrolled": true
   },
   "outputs": [],
   "source": [
    "from sklearn import svm"
   ]
  },
  {
   "cell_type": "code",
   "execution_count": 2,
   "id": "8cc07644-10bb-4a23-9c94-cc22b5f5bfb6",
   "metadata": {},
   "outputs": [],
   "source": [
    "import pandas as pd\n",
    "from sklearn.metrics import mean_squared_error, r2_score, make_scorer\n",
    "from sklearn.model_selection import train_test_split"
   ]
  },
  {
   "cell_type": "code",
   "execution_count": 3,
   "id": "954cd2c0-b18c-4629-9789-f69a8dd52cfe",
   "metadata": {},
   "outputs": [],
   "source": [
    "df1 = pd.read_excel('data-size56.xlsx', sheet_name=0)"
   ]
  },
  {
   "cell_type": "code",
   "execution_count": 4,
   "id": "a25e07b4-10f6-4822-b434-b3c9e08e50e6",
   "metadata": {},
   "outputs": [
    {
     "name": "stdout",
     "output_type": "stream",
     "text": [
      "Index(['f ', 'd', 'T', 'Stress', 'Strain'], dtype='object')\n",
      "(56, 5)\n"
     ]
    }
   ],
   "source": [
    "print(df1.columns)\n",
    "print(df1.shape)"
   ]
  },
  {
   "cell_type": "code",
   "execution_count": 5,
   "id": "976f07fd-6d73-4394-aedb-b5fd0f139400",
   "metadata": {},
   "outputs": [],
   "source": [
    "X_train, X_test, y_train, y_test = train_test_split(df1.loc[:,['f ', 'd', 'T']], \\\n",
    "df1.loc[:, 'Stress'], train_size = 51, shuffle = False)"
   ]
  },
  {
   "cell_type": "code",
   "execution_count": 6,
   "id": "86d00c1a-9869-4c81-b5e5-ae660e5db56f",
   "metadata": {},
   "outputs": [
    {
     "ename": "AttributeError",
     "evalue": "'PLSSVD' object has no attribute 'predict'",
     "output_type": "error",
     "traceback": [
      "\u001b[1;31m---------------------------------------------------------------------------\u001b[0m",
      "\u001b[1;31mAttributeError\u001b[0m                            Traceback (most recent call last)",
      "Cell \u001b[1;32mIn[6], line 9\u001b[0m\n\u001b[0;32m      4\u001b[0m \u001b[38;5;66;03m# model = KNeighborsRegressor()\u001b[39;00m\n\u001b[0;32m      5\u001b[0m \u001b[38;5;66;03m# model = make_pipeline(StandardScaler(), LinearSVR(dual=\"auto\", random_state=0, tol=1e-5))\u001b[39;00m\n\u001b[0;32m      6\u001b[0m \u001b[38;5;66;03m# model = BernoulliRBM(n_components=2)\u001b[39;00m\n\u001b[0;32m      7\u001b[0m \u001b[38;5;66;03m# model.fit(X_train, y_train)\u001b[39;00m\n\u001b[0;32m      8\u001b[0m model\u001b[38;5;241m.\u001b[39mfit(X_train\u001b[38;5;241m.\u001b[39mto_numpy(), y_train\u001b[38;5;241m.\u001b[39mto_numpy())\n\u001b[1;32m----> 9\u001b[0m y_pred \u001b[38;5;241m=\u001b[39m \u001b[43mmodel\u001b[49m\u001b[38;5;241;43m.\u001b[39;49m\u001b[43mpredict\u001b[49m(X_test)\n",
      "\u001b[1;31mAttributeError\u001b[0m: 'PLSSVD' object has no attribute 'predict'"
     ]
    }
   ],
   "source": [
    "from sklearn.cross_decomposition import PLSSVD\n",
    "# from sklearn import ensemble\n",
    "model = PLSSVD(n_components=1)\n",
    "# model = KNeighborsRegressor()\n",
    "# model = make_pipeline(StandardScaler(), LinearSVR(dual=\"auto\", random_state=0, tol=1e-5))\n",
    "# model = BernoulliRBM(n_components=2)\n",
    "# model.fit(X_train, y_train)\n",
    "model.fit(X_train.to_numpy(), y_train.to_numpy())\n",
    "y_pred = model.predict(X_test)"
   ]
  },
  {
   "cell_type": "code",
   "execution_count": null,
   "id": "f642e320-779a-4a58-a1e2-9ccc66dc00f8",
   "metadata": {},
   "outputs": [],
   "source": [
    "import numpy as np\n",
    "print(type(y_pred))\n",
    "print(y_pred.shape)\n",
    "y_pred = np.concatenate((model.predict(X_train), y_pred), axis=0)\n",
    "print(y_pred.shape)\n",
    "#y_pred = model.predict(df1.loc[:, ['Extrusion Temperature (in C)', 'Layer Height (mm)', 'Shell Thickness (mm)']].to_numpy())"
   ]
  },
  {
   "cell_type": "code",
   "execution_count": null,
   "id": "4f5c875f-a55d-4e80-8ff2-724d90885ff1",
   "metadata": {},
   "outputs": [],
   "source": [
    "result = df1.loc[:, ['f ', 'd', 'T', 'Stress']].reset_index(drop=True)\n",
    "# result = df1.loc[:, ['Dataset Type', 'Expt', 'XGBR']].reset_index(drop=True)\n",
    "result['y_pred'] = pd.Series(y_pred)\n",
    "result"
   ]
  },
  {
   "cell_type": "code",
   "execution_count": null,
   "id": "354093fc-25de-4955-b1b2-f71770aaf85c",
   "metadata": {},
   "outputs": [],
   "source": [
    "# print(\"r2 score (author) : \", r2_score(result['Stress'].to_numpy(), result['XGBR'].to_numpy()))\n",
    "print(\"r2 score (amt) : \", r2_score(result['Stress'].to_numpy(), result['y_pred'].to_numpy()))\n",
    "print(\"MAE (amt) : \", mean_squared_error(result['Stress'].to_numpy(), result['y_pred'].to_numpy()))\n",
    "#print(pow(mean_squared_error(y_test.to_numpy(), y_pred), 0.5))\n"
   ]
  },
  {
   "cell_type": "code",
   "execution_count": null,
   "id": "e89ef373-9388-4ed0-8811-9c7ab7b7bd32",
   "metadata": {},
   "outputs": [],
   "source": [
    "# Rewriting r2score definiton\n",
    "def getRSquared(y, y_pred):\n",
    "    ssr = 0\n",
    "    for i in range(len(y)):\n",
    "        ssr = ssr + pow(y[i] - y_pred[i], 2)\n",
    "    sst = 0\n",
    "    ymean = 0\n",
    "    for y_i in y:\n",
    "        ymean = ymean + y_i\n",
    "    ymean = ymean / len(y)\n",
    "    for i in range(len(y)):\n",
    "        sst = sst + pow(y[i] - ymean, 2)\n",
    "    return 1 - ssr / sst"
   ]
  }
 ],
 "metadata": {
  "kernelspec": {
   "display_name": "Python 3 (ipykernel)",
   "language": "python",
   "name": "python3"
  },
  "language_info": {
   "codemirror_mode": {
    "name": "ipython",
    "version": 3
   },
   "file_extension": ".py",
   "mimetype": "text/x-python",
   "name": "python",
   "nbconvert_exporter": "python",
   "pygments_lexer": "ipython3",
   "version": "3.10.7"
  }
 },
 "nbformat": 4,
 "nbformat_minor": 5
}
