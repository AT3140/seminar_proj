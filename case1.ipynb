{
 "cells": [
  {
   "cell_type": "code",
   "execution_count": 1,
   "id": "9640eda2-bc11-42e3-86ce-142bed3f11f8",
   "metadata": {
    "scrolled": true
   },
   "outputs": [],
   "source": [
    "import xgboost as xgb\n",
    "from sklearn.ensemble import GradientBoostingRegressor, AdaBoostClassifier"
   ]
  },
  {
   "cell_type": "code",
   "execution_count": 2,
   "id": "8cc07644-10bb-4a23-9c94-cc22b5f5bfb6",
   "metadata": {},
   "outputs": [],
   "source": [
    "import pandas as pd\n",
    "from sklearn.metrics import mean_squared_error, r2_score, make_scorer\n",
    "from sklearn.model_selection import train_test_split"
   ]
  },
  {
   "cell_type": "code",
   "execution_count": 3,
   "id": "954cd2c0-b18c-4629-9789-f69a8dd52cfe",
   "metadata": {},
   "outputs": [],
   "source": [
    "df1 = pd.read_excel('data-MDPI-Random-Forest.xlsx', sheet_name=0)\n",
    "df2 = pd.read_excel('data-MDPI-Random-Forest.xlsx', sheet_name=1) "
   ]
  },
  {
   "cell_type": "code",
   "execution_count": 4,
   "id": "a25e07b4-10f6-4822-b434-b3c9e08e50e6",
   "metadata": {},
   "outputs": [
    {
     "name": "stdout",
     "output_type": "stream",
     "text": [
      "Index(['Dataset Type', 'Extrusion Temperature (in C)', 'Layer Height (mm)',\n",
      "       'Shell Thickness (mm)', 'Expt', 'LR', 'RFR', 'ABR', 'GBR', 'XGBR'],\n",
      "      dtype='object')\n",
      "Index(['Dataset Type', 'Layer Thickness (mm)', 'XY', 'XZ', 'YZ', 'Expt', 'LR',\n",
      "       'RFR', 'ABR', 'GBR', 'XGBR'],\n",
      "      dtype='object')\n"
     ]
    }
   ],
   "source": [
    "print(df1.columns)\n",
    "print(df2.columns)"
   ]
  },
  {
   "cell_type": "code",
   "execution_count": 17,
   "id": "0bb41024-62d8-42dc-a6aa-79f6ac8da234",
   "metadata": {},
   "outputs": [
    {
     "data": {
      "text/plain": [
       "1.2"
      ]
     },
     "execution_count": 17,
     "metadata": {},
     "output_type": "execute_result"
    }
   ],
   "source": [
    "max(df1['Shell Thickness (mm)'])"
   ]
  },
  {
   "cell_type": "code",
   "execution_count": 5,
   "id": "976f07fd-6d73-4394-aedb-b5fd0f139400",
   "metadata": {},
   "outputs": [],
   "source": [
    "X_train, X_test, y_train, y_test = train_test_split(df1.loc[:,['Extrusion Temperature (in C)', 'Layer Height (mm)', 'Shell Thickness (mm)']], \\\n",
    "df1.loc[:, 'Expt'], train_size = 19, shuffle = False)\n"
   ]
  },
  {
   "cell_type": "code",
   "execution_count": 6,
   "id": "86d00c1a-9869-4c81-b5e5-ae660e5db56f",
   "metadata": {},
   "outputs": [],
   "source": [
    "model = xgb.XGBRegressor(n_estimators=300, booster='gbtree', learning_rate=0.3, max_depth=6)\n",
    "#model = GradientBoostingRegressor(n_estimators=1200,learning_rate=1.0)\n",
    "#model = AdaBoostClassifier(n_estimators=100,learning_rate=1.0)"
   ]
  },
  {
   "cell_type": "code",
   "execution_count": 7,
   "id": "f642e320-779a-4a58-a1e2-9ccc66dc00f8",
   "metadata": {},
   "outputs": [],
   "source": [
    "model.fit(X_train.to_numpy(),y_train.to_numpy())\n",
    "\n",
    "predictions = model.predict(X_test.to_numpy())"
   ]
  },
  {
   "cell_type": "code",
   "execution_count": 8,
   "id": "4f5c875f-a55d-4e80-8ff2-724d90885ff1",
   "metadata": {},
   "outputs": [
    {
     "data": {
      "text/html": [
       "<div>\n",
       "<style scoped>\n",
       "    .dataframe tbody tr th:only-of-type {\n",
       "        vertical-align: middle;\n",
       "    }\n",
       "\n",
       "    .dataframe tbody tr th {\n",
       "        vertical-align: top;\n",
       "    }\n",
       "\n",
       "    .dataframe thead th {\n",
       "        text-align: right;\n",
       "    }\n",
       "</style>\n",
       "<table border=\"1\" class=\"dataframe\">\n",
       "  <thead>\n",
       "    <tr style=\"text-align: right;\">\n",
       "      <th></th>\n",
       "      <th>Dataset Type</th>\n",
       "      <th>Expt</th>\n",
       "      <th>XGBR</th>\n",
       "      <th>Predictions</th>\n",
       "    </tr>\n",
       "  </thead>\n",
       "  <tbody>\n",
       "    <tr>\n",
       "      <th>0</th>\n",
       "      <td>Test</td>\n",
       "      <td>43.254</td>\n",
       "      <td>46.7304</td>\n",
       "      <td>46.635403</td>\n",
       "    </tr>\n",
       "    <tr>\n",
       "      <th>1</th>\n",
       "      <td>Test</td>\n",
       "      <td>57.332</td>\n",
       "      <td>50.6326</td>\n",
       "      <td>51.612251</td>\n",
       "    </tr>\n",
       "    <tr>\n",
       "      <th>2</th>\n",
       "      <td>Test</td>\n",
       "      <td>53.981</td>\n",
       "      <td>32.7860</td>\n",
       "      <td>28.132568</td>\n",
       "    </tr>\n",
       "    <tr>\n",
       "      <th>3</th>\n",
       "      <td>Test</td>\n",
       "      <td>52.274</td>\n",
       "      <td>55.4502</td>\n",
       "      <td>52.998081</td>\n",
       "    </tr>\n",
       "    <tr>\n",
       "      <th>4</th>\n",
       "      <td>Test</td>\n",
       "      <td>26.588</td>\n",
       "      <td>37.1562</td>\n",
       "      <td>38.928310</td>\n",
       "    </tr>\n",
       "    <tr>\n",
       "      <th>5</th>\n",
       "      <td>Test</td>\n",
       "      <td>47.586</td>\n",
       "      <td>52.4950</td>\n",
       "      <td>51.702663</td>\n",
       "    </tr>\n",
       "    <tr>\n",
       "      <th>6</th>\n",
       "      <td>Test</td>\n",
       "      <td>48.307</td>\n",
       "      <td>53.0042</td>\n",
       "      <td>52.522217</td>\n",
       "    </tr>\n",
       "    <tr>\n",
       "      <th>7</th>\n",
       "      <td>Test</td>\n",
       "      <td>52.299</td>\n",
       "      <td>55.6377</td>\n",
       "      <td>54.570969</td>\n",
       "    </tr>\n",
       "    <tr>\n",
       "      <th>8</th>\n",
       "      <td>Test</td>\n",
       "      <td>51.032</td>\n",
       "      <td>45.9100</td>\n",
       "      <td>49.071541</td>\n",
       "    </tr>\n",
       "  </tbody>\n",
       "</table>\n",
       "</div>"
      ],
      "text/plain": [
       "  Dataset Type    Expt     XGBR  Predictions\n",
       "0         Test  43.254  46.7304    46.635403\n",
       "1         Test  57.332  50.6326    51.612251\n",
       "2         Test  53.981  32.7860    28.132568\n",
       "3         Test  52.274  55.4502    52.998081\n",
       "4         Test  26.588  37.1562    38.928310\n",
       "5         Test  47.586  52.4950    51.702663\n",
       "6         Test  48.307  53.0042    52.522217\n",
       "7         Test  52.299  55.6377    54.570969\n",
       "8         Test  51.032  45.9100    49.071541"
      ]
     },
     "execution_count": 8,
     "metadata": {},
     "output_type": "execute_result"
    }
   ],
   "source": [
    "result = df1.loc[df1['Dataset Type'] == 'Test', ['Dataset Type', 'Expt', 'XGBR']].reset_index(drop=True)\n",
    "result['Predictions'] = pd.Series(predictions)\n",
    "result"
   ]
  },
  {
   "cell_type": "code",
   "execution_count": 9,
   "id": "354093fc-25de-4955-b1b2-f71770aaf85c",
   "metadata": {},
   "outputs": [
    {
     "name": "stdout",
     "output_type": "stream",
     "text": [
      "r2 score (author) :  -0.09460927175004796\n",
      "r2 score (amt) :  -0.3981467194216155\n",
      "79.05713450333333\n"
     ]
    }
   ],
   "source": [
    "print(\"r2 score (author) : \", r2_score(result['Expt'].to_numpy(), result['XGBR'].to_numpy()))\n",
    "print(\"r2 score (amt) : \", r2_score(result['Expt'].to_numpy(), result['Predictions'].to_numpy()))\n",
    "print(mean_squared_error(result['Expt'].to_numpy(), result['XGBR'].to_numpy()))\n",
    "#print(pow(mean_squared_error(y_test.to_numpy(), predictions), 0.5))"
   ]
  },
  {
   "cell_type": "code",
   "execution_count": 10,
   "id": "65e2c11a-2df9-42a5-867a-6f8b595fe1b1",
   "metadata": {},
   "outputs": [
    {
     "name": "stdout",
     "output_type": "stream",
     "text": [
      "r2 score (author) :  0.6045015612282447\n",
      "25.41122491107143\n"
     ]
    },
    {
     "ename": "KeyError",
     "evalue": "'Predictions'",
     "output_type": "error",
     "traceback": [
      "\u001b[1;31m---------------------------------------------------------------------------\u001b[0m",
      "\u001b[1;31mKeyError\u001b[0m                                  Traceback (most recent call last)",
      "File \u001b[1;32mD:\\seminar_proj\\vsem\\lib\\site-packages\\pandas\\core\\indexes\\base.py:3802\u001b[0m, in \u001b[0;36mIndex.get_loc\u001b[1;34m(self, key)\u001b[0m\n\u001b[0;32m   3801\u001b[0m \u001b[38;5;28;01mtry\u001b[39;00m:\n\u001b[1;32m-> 3802\u001b[0m     \u001b[38;5;28;01mreturn\u001b[39;00m \u001b[38;5;28;43mself\u001b[39;49m\u001b[38;5;241;43m.\u001b[39;49m\u001b[43m_engine\u001b[49m\u001b[38;5;241;43m.\u001b[39;49m\u001b[43mget_loc\u001b[49m\u001b[43m(\u001b[49m\u001b[43mcasted_key\u001b[49m\u001b[43m)\u001b[49m\n\u001b[0;32m   3803\u001b[0m \u001b[38;5;28;01mexcept\u001b[39;00m \u001b[38;5;167;01mKeyError\u001b[39;00m \u001b[38;5;28;01mas\u001b[39;00m err:\n",
      "File \u001b[1;32mindex.pyx:153\u001b[0m, in \u001b[0;36mpandas._libs.index.IndexEngine.get_loc\u001b[1;34m()\u001b[0m\n",
      "File \u001b[1;32mindex.pyx:182\u001b[0m, in \u001b[0;36mpandas._libs.index.IndexEngine.get_loc\u001b[1;34m()\u001b[0m\n",
      "File \u001b[1;32mpandas\\\\_libs\\\\hashtable_class_helper.pxi:7081\u001b[0m, in \u001b[0;36mpandas._libs.hashtable.PyObjectHashTable.get_item\u001b[1;34m()\u001b[0m\n",
      "File \u001b[1;32mpandas\\\\_libs\\\\hashtable_class_helper.pxi:7089\u001b[0m, in \u001b[0;36mpandas._libs.hashtable.PyObjectHashTable.get_item\u001b[1;34m()\u001b[0m\n",
      "\u001b[1;31mKeyError\u001b[0m: 'Predictions'",
      "\nThe above exception was the direct cause of the following exception:\n",
      "\u001b[1;31mKeyError\u001b[0m                                  Traceback (most recent call last)",
      "Cell \u001b[1;32mIn[10], line 3\u001b[0m\n\u001b[0;32m      1\u001b[0m \u001b[38;5;28mprint\u001b[39m(\u001b[38;5;124m\"\u001b[39m\u001b[38;5;124mr2 score (author) : \u001b[39m\u001b[38;5;124m\"\u001b[39m, r2_score(df1[\u001b[38;5;124m'\u001b[39m\u001b[38;5;124mExpt\u001b[39m\u001b[38;5;124m'\u001b[39m]\u001b[38;5;241m.\u001b[39mto_numpy(), df1[\u001b[38;5;124m'\u001b[39m\u001b[38;5;124mXGBR\u001b[39m\u001b[38;5;124m'\u001b[39m]\u001b[38;5;241m.\u001b[39mto_numpy()))\n\u001b[0;32m      2\u001b[0m \u001b[38;5;28mprint\u001b[39m(mean_squared_error(df1[\u001b[38;5;124m'\u001b[39m\u001b[38;5;124mExpt\u001b[39m\u001b[38;5;124m'\u001b[39m]\u001b[38;5;241m.\u001b[39mto_numpy(), df1[\u001b[38;5;124m'\u001b[39m\u001b[38;5;124mXGBR\u001b[39m\u001b[38;5;124m'\u001b[39m]\u001b[38;5;241m.\u001b[39mto_numpy()))\n\u001b[1;32m----> 3\u001b[0m \u001b[38;5;28mprint\u001b[39m(\u001b[38;5;124m\"\u001b[39m\u001b[38;5;124mr2 score (amt) : \u001b[39m\u001b[38;5;124m\"\u001b[39m, r2_score(df1[\u001b[38;5;124m'\u001b[39m\u001b[38;5;124mExpt\u001b[39m\u001b[38;5;124m'\u001b[39m]\u001b[38;5;241m.\u001b[39mto_numpy(), \u001b[43mdf1\u001b[49m\u001b[43m[\u001b[49m\u001b[38;5;124;43m'\u001b[39;49m\u001b[38;5;124;43mPredictions\u001b[39;49m\u001b[38;5;124;43m'\u001b[39;49m\u001b[43m]\u001b[49m\u001b[38;5;241m.\u001b[39mto_numpy()))\n\u001b[0;32m      4\u001b[0m \u001b[38;5;66;03m#print(pow(mean_squared_error(y_test.to_numpy(), predictions), 0.5))\u001b[39;00m\n",
      "File \u001b[1;32mD:\\seminar_proj\\vsem\\lib\\site-packages\\pandas\\core\\frame.py:4090\u001b[0m, in \u001b[0;36mDataFrame.__getitem__\u001b[1;34m(self, key)\u001b[0m\n\u001b[0;32m   4088\u001b[0m \u001b[38;5;28;01mif\u001b[39;00m \u001b[38;5;28mself\u001b[39m\u001b[38;5;241m.\u001b[39mcolumns\u001b[38;5;241m.\u001b[39mnlevels \u001b[38;5;241m>\u001b[39m \u001b[38;5;241m1\u001b[39m:\n\u001b[0;32m   4089\u001b[0m     \u001b[38;5;28;01mreturn\u001b[39;00m \u001b[38;5;28mself\u001b[39m\u001b[38;5;241m.\u001b[39m_getitem_multilevel(key)\n\u001b[1;32m-> 4090\u001b[0m indexer \u001b[38;5;241m=\u001b[39m \u001b[38;5;28;43mself\u001b[39;49m\u001b[38;5;241;43m.\u001b[39;49m\u001b[43mcolumns\u001b[49m\u001b[38;5;241;43m.\u001b[39;49m\u001b[43mget_loc\u001b[49m\u001b[43m(\u001b[49m\u001b[43mkey\u001b[49m\u001b[43m)\u001b[49m\n\u001b[0;32m   4091\u001b[0m \u001b[38;5;28;01mif\u001b[39;00m is_integer(indexer):\n\u001b[0;32m   4092\u001b[0m     indexer \u001b[38;5;241m=\u001b[39m [indexer]\n",
      "File \u001b[1;32mD:\\seminar_proj\\vsem\\lib\\site-packages\\pandas\\core\\indexes\\base.py:3809\u001b[0m, in \u001b[0;36mIndex.get_loc\u001b[1;34m(self, key)\u001b[0m\n\u001b[0;32m   3804\u001b[0m     \u001b[38;5;28;01mif\u001b[39;00m \u001b[38;5;28misinstance\u001b[39m(casted_key, \u001b[38;5;28mslice\u001b[39m) \u001b[38;5;129;01mor\u001b[39;00m (\n\u001b[0;32m   3805\u001b[0m         \u001b[38;5;28misinstance\u001b[39m(casted_key, abc\u001b[38;5;241m.\u001b[39mIterable)\n\u001b[0;32m   3806\u001b[0m         \u001b[38;5;129;01mand\u001b[39;00m \u001b[38;5;28many\u001b[39m(\u001b[38;5;28misinstance\u001b[39m(x, \u001b[38;5;28mslice\u001b[39m) \u001b[38;5;28;01mfor\u001b[39;00m x \u001b[38;5;129;01min\u001b[39;00m casted_key)\n\u001b[0;32m   3807\u001b[0m     ):\n\u001b[0;32m   3808\u001b[0m         \u001b[38;5;28;01mraise\u001b[39;00m InvalidIndexError(key)\n\u001b[1;32m-> 3809\u001b[0m     \u001b[38;5;28;01mraise\u001b[39;00m \u001b[38;5;167;01mKeyError\u001b[39;00m(key) \u001b[38;5;28;01mfrom\u001b[39;00m \u001b[38;5;21;01merr\u001b[39;00m\n\u001b[0;32m   3810\u001b[0m \u001b[38;5;28;01mexcept\u001b[39;00m \u001b[38;5;167;01mTypeError\u001b[39;00m:\n\u001b[0;32m   3811\u001b[0m     \u001b[38;5;66;03m# If we have a listlike key, _check_indexing_error will raise\u001b[39;00m\n\u001b[0;32m   3812\u001b[0m     \u001b[38;5;66;03m#  InvalidIndexError. Otherwise we fall through and re-raise\u001b[39;00m\n\u001b[0;32m   3813\u001b[0m     \u001b[38;5;66;03m#  the TypeError.\u001b[39;00m\n\u001b[0;32m   3814\u001b[0m     \u001b[38;5;28mself\u001b[39m\u001b[38;5;241m.\u001b[39m_check_indexing_error(key)\n",
      "\u001b[1;31mKeyError\u001b[0m: 'Predictions'"
     ]
    }
   ],
   "source": [
    "print(\"r2 score (author) : \", r2_score(df1['Expt'].to_numpy(), df1['XGBR'].to_numpy()))\n",
    "print(mean_squared_error(df1['Expt'].to_numpy(), df1['XGBR'].to_numpy()))\n",
    "print(\"r2 score (amt) : \", r2_score(df1['Expt'].to_numpy(), df1['Predictions'].to_numpy()))\n",
    "#print(pow(mean_squared_error(y_test.to_numpy(), predictions), 0.5))"
   ]
  },
  {
   "cell_type": "code",
   "execution_count": null,
   "id": "e89ef373-9388-4ed0-8811-9c7ab7b7bd32",
   "metadata": {},
   "outputs": [],
   "source": [
    "# Rewriting r2score definiton\n",
    "def getRSquared(y, predictions):\n",
    "    ssr = 0\n",
    "    for i in range(len(y)):\n",
    "        ssr = ssr + pow(y[i] - predictions[i], 2)\n",
    "    sst = 0\n",
    "    ymean = 0\n",
    "    for y_i in y:\n",
    "        ymean = ymean + y_i\n",
    "    ymean = ymean / len(y)\n",
    "    for i in range(len(y)):\n",
    "        sst = sst + pow(y[i] - ymean, 2)\n",
    "    return 1 - ssr / sst"
   ]
  }
 ],
 "metadata": {
  "kernelspec": {
   "display_name": "Python 3 (ipykernel)",
   "language": "python",
   "name": "python3"
  },
  "language_info": {
   "codemirror_mode": {
    "name": "ipython",
    "version": 3
   },
   "file_extension": ".py",
   "mimetype": "text/x-python",
   "name": "python",
   "nbconvert_exporter": "python",
   "pygments_lexer": "ipython3",
   "version": "3.10.7"
  }
 },
 "nbformat": 4,
 "nbformat_minor": 5
}
